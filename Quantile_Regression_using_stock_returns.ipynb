{
 "cells": [
  {
   "cell_type": "code",
   "execution_count": 50,
   "id": "980ab068",
   "metadata": {},
   "outputs": [
    {
     "name": "stdout",
     "output_type": "stream",
     "text": [
      "Requirement already satisfied: yfinance in c:\\users\\kd129201\\anaconda3\\lib\\site-packages (0.1.74)\n",
      "Requirement already satisfied: requests>=2.26 in c:\\users\\kd129201\\anaconda3\\lib\\site-packages (from yfinance) (2.27.1)\n",
      "Requirement already satisfied: pandas>=0.24.0 in c:\\users\\kd129201\\anaconda3\\lib\\site-packages (from yfinance) (1.4.2)\n",
      "Requirement already satisfied: numpy>=1.15 in c:\\users\\kd129201\\anaconda3\\lib\\site-packages (from yfinance) (1.21.5)\n",
      "Requirement already satisfied: multitasking>=0.0.7 in c:\\users\\kd129201\\anaconda3\\lib\\site-packages (from yfinance) (0.0.11)\n",
      "Requirement already satisfied: lxml>=4.5.1 in c:\\users\\kd129201\\anaconda3\\lib\\site-packages (from yfinance) (4.8.0)\n",
      "Requirement already satisfied: python-dateutil>=2.8.1 in c:\\users\\kd129201\\anaconda3\\lib\\site-packages (from pandas>=0.24.0->yfinance) (2.8.2)\n",
      "Requirement already satisfied: pytz>=2020.1 in c:\\users\\kd129201\\anaconda3\\lib\\site-packages (from pandas>=0.24.0->yfinance) (2021.3)\n",
      "Requirement already satisfied: six>=1.5 in c:\\users\\kd129201\\anaconda3\\lib\\site-packages (from python-dateutil>=2.8.1->pandas>=0.24.0->yfinance) (1.16.0)\n",
      "Requirement already satisfied: certifi>=2017.4.17 in c:\\users\\kd129201\\anaconda3\\lib\\site-packages (from requests>=2.26->yfinance) (2021.10.8)\n",
      "Requirement already satisfied: idna<4,>=2.5 in c:\\users\\kd129201\\anaconda3\\lib\\site-packages (from requests>=2.26->yfinance) (3.3)\n",
      "Requirement already satisfied: urllib3<1.27,>=1.21.1 in c:\\users\\kd129201\\anaconda3\\lib\\site-packages (from requests>=2.26->yfinance) (1.26.9)\n",
      "Requirement already satisfied: charset-normalizer~=2.0.0 in c:\\users\\kd129201\\anaconda3\\lib\\site-packages (from requests>=2.26->yfinance) (2.0.4)\n",
      "Requirement already satisfied: pandas_datareader in c:\\users\\kd129201\\anaconda3\\lib\\site-packages (0.10.0)\n",
      "Requirement already satisfied: lxml in c:\\users\\kd129201\\anaconda3\\lib\\site-packages (from pandas_datareader) (4.8.0)\n",
      "Requirement already satisfied: requests>=2.19.0 in c:\\users\\kd129201\\anaconda3\\lib\\site-packages (from pandas_datareader) (2.27.1)\n",
      "Requirement already satisfied: pandas>=0.23 in c:\\users\\kd129201\\anaconda3\\lib\\site-packages (from pandas_datareader) (1.4.2)\n",
      "Requirement already satisfied: pytz>=2020.1 in c:\\users\\kd129201\\anaconda3\\lib\\site-packages (from pandas>=0.23->pandas_datareader) (2021.3)\n",
      "Requirement already satisfied: python-dateutil>=2.8.1 in c:\\users\\kd129201\\anaconda3\\lib\\site-packages (from pandas>=0.23->pandas_datareader) (2.8.2)\n",
      "Requirement already satisfied: numpy>=1.18.5 in c:\\users\\kd129201\\anaconda3\\lib\\site-packages (from pandas>=0.23->pandas_datareader) (1.21.5)\n",
      "Requirement already satisfied: six>=1.5 in c:\\users\\kd129201\\anaconda3\\lib\\site-packages (from python-dateutil>=2.8.1->pandas>=0.23->pandas_datareader) (1.16.0)\n",
      "Requirement already satisfied: charset-normalizer~=2.0.0 in c:\\users\\kd129201\\anaconda3\\lib\\site-packages (from requests>=2.19.0->pandas_datareader) (2.0.4)\n",
      "Requirement already satisfied: urllib3<1.27,>=1.21.1 in c:\\users\\kd129201\\anaconda3\\lib\\site-packages (from requests>=2.19.0->pandas_datareader) (1.26.9)\n",
      "Requirement already satisfied: certifi>=2017.4.17 in c:\\users\\kd129201\\anaconda3\\lib\\site-packages (from requests>=2.19.0->pandas_datareader) (2021.10.8)\n",
      "Requirement already satisfied: idna<4,>=2.5 in c:\\users\\kd129201\\anaconda3\\lib\\site-packages (from requests>=2.19.0->pandas_datareader) (3.3)\n",
      "Starting date: 2019-09-01 00:00:00\n",
      "Ending date: 2022-09-01 00:00:00\n",
      "[*********************100%***********************]  1 of 1 completed\n"
     ]
    }
   ],
   "source": [
    "##### Importing packages\n",
    "!pip install yfinance \n",
    "!pip install pandas_datareader\n",
    "import numpy as np\n",
    "import pandas as pd\n",
    "import statsmodels.api as sm\n",
    "import statsmodels.formula.api as smf\n",
    "import matplotlib.pyplot as plt\n",
    "import pandas_datareader.data as pdr\n",
    "import yfinance as yf\n",
    "from datetime import datetime, timedelta\n",
    "yf.pdr_override()\n",
    "start_date = datetime(2019, 9, 1)\n",
    "print(\"Starting date:\", start_date)\n",
    "# end_date = datetime.now()\n",
    "end_date = datetime(2022, 9, 1)\n",
    "print(\"Ending date:\", end_date)\n",
    "\n",
    "stock_symbol = ['AAPL']\n",
    "\n",
    "stock_aapl= pdr.get_data_yahoo(stock_symbol, start_date, end_date)"
   ]
  },
  {
   "cell_type": "code",
   "execution_count": 2,
   "id": "8285a3d6",
   "metadata": {},
   "outputs": [
    {
     "data": {
      "text/html": [
       "<div>\n",
       "<style scoped>\n",
       "    .dataframe tbody tr th:only-of-type {\n",
       "        vertical-align: middle;\n",
       "    }\n",
       "\n",
       "    .dataframe tbody tr th {\n",
       "        vertical-align: top;\n",
       "    }\n",
       "\n",
       "    .dataframe thead th {\n",
       "        text-align: right;\n",
       "    }\n",
       "</style>\n",
       "<table border=\"1\" class=\"dataframe\">\n",
       "  <thead>\n",
       "    <tr style=\"text-align: right;\">\n",
       "      <th></th>\n",
       "      <th>Open</th>\n",
       "      <th>High</th>\n",
       "      <th>Low</th>\n",
       "      <th>Close</th>\n",
       "      <th>Adj Close</th>\n",
       "      <th>Volume</th>\n",
       "    </tr>\n",
       "    <tr>\n",
       "      <th>Date</th>\n",
       "      <th></th>\n",
       "      <th></th>\n",
       "      <th></th>\n",
       "      <th></th>\n",
       "      <th></th>\n",
       "      <th></th>\n",
       "    </tr>\n",
       "  </thead>\n",
       "  <tbody>\n",
       "    <tr>\n",
       "      <th>2019-09-03</th>\n",
       "      <td>51.607498</td>\n",
       "      <td>51.744999</td>\n",
       "      <td>51.055000</td>\n",
       "      <td>51.424999</td>\n",
       "      <td>50.312431</td>\n",
       "      <td>80092000</td>\n",
       "    </tr>\n",
       "    <tr>\n",
       "      <th>2019-09-04</th>\n",
       "      <td>52.097500</td>\n",
       "      <td>52.369999</td>\n",
       "      <td>51.830002</td>\n",
       "      <td>52.297501</td>\n",
       "      <td>51.166061</td>\n",
       "      <td>76752400</td>\n",
       "    </tr>\n",
       "    <tr>\n",
       "      <th>2019-09-05</th>\n",
       "      <td>53.000000</td>\n",
       "      <td>53.492500</td>\n",
       "      <td>52.877499</td>\n",
       "      <td>53.320000</td>\n",
       "      <td>52.166439</td>\n",
       "      <td>95654800</td>\n",
       "    </tr>\n",
       "    <tr>\n",
       "      <th>2019-09-06</th>\n",
       "      <td>53.512501</td>\n",
       "      <td>53.605000</td>\n",
       "      <td>53.127499</td>\n",
       "      <td>53.314999</td>\n",
       "      <td>52.161549</td>\n",
       "      <td>77449200</td>\n",
       "    </tr>\n",
       "    <tr>\n",
       "      <th>2019-09-09</th>\n",
       "      <td>53.709999</td>\n",
       "      <td>54.110001</td>\n",
       "      <td>52.767502</td>\n",
       "      <td>53.542500</td>\n",
       "      <td>52.384117</td>\n",
       "      <td>109237600</td>\n",
       "    </tr>\n",
       "    <tr>\n",
       "      <th>...</th>\n",
       "      <td>...</td>\n",
       "      <td>...</td>\n",
       "      <td>...</td>\n",
       "      <td>...</td>\n",
       "      <td>...</td>\n",
       "      <td>...</td>\n",
       "    </tr>\n",
       "    <tr>\n",
       "      <th>2022-08-25</th>\n",
       "      <td>168.779999</td>\n",
       "      <td>170.139999</td>\n",
       "      <td>168.350006</td>\n",
       "      <td>170.029999</td>\n",
       "      <td>170.029999</td>\n",
       "      <td>51218200</td>\n",
       "    </tr>\n",
       "    <tr>\n",
       "      <th>2022-08-26</th>\n",
       "      <td>170.570007</td>\n",
       "      <td>171.050003</td>\n",
       "      <td>163.559998</td>\n",
       "      <td>163.619995</td>\n",
       "      <td>163.619995</td>\n",
       "      <td>78961000</td>\n",
       "    </tr>\n",
       "    <tr>\n",
       "      <th>2022-08-29</th>\n",
       "      <td>161.149994</td>\n",
       "      <td>162.899994</td>\n",
       "      <td>159.820007</td>\n",
       "      <td>161.380005</td>\n",
       "      <td>161.380005</td>\n",
       "      <td>73314000</td>\n",
       "    </tr>\n",
       "    <tr>\n",
       "      <th>2022-08-30</th>\n",
       "      <td>162.130005</td>\n",
       "      <td>162.559998</td>\n",
       "      <td>157.720001</td>\n",
       "      <td>158.910004</td>\n",
       "      <td>158.910004</td>\n",
       "      <td>77906200</td>\n",
       "    </tr>\n",
       "    <tr>\n",
       "      <th>2022-08-31</th>\n",
       "      <td>160.309998</td>\n",
       "      <td>160.580002</td>\n",
       "      <td>157.139999</td>\n",
       "      <td>157.220001</td>\n",
       "      <td>157.220001</td>\n",
       "      <td>87991100</td>\n",
       "    </tr>\n",
       "  </tbody>\n",
       "</table>\n",
       "<p>756 rows × 6 columns</p>\n",
       "</div>"
      ],
      "text/plain": [
       "                  Open        High         Low       Close   Adj Close  \\\n",
       "Date                                                                     \n",
       "2019-09-03   51.607498   51.744999   51.055000   51.424999   50.312431   \n",
       "2019-09-04   52.097500   52.369999   51.830002   52.297501   51.166061   \n",
       "2019-09-05   53.000000   53.492500   52.877499   53.320000   52.166439   \n",
       "2019-09-06   53.512501   53.605000   53.127499   53.314999   52.161549   \n",
       "2019-09-09   53.709999   54.110001   52.767502   53.542500   52.384117   \n",
       "...                ...         ...         ...         ...         ...   \n",
       "2022-08-25  168.779999  170.139999  168.350006  170.029999  170.029999   \n",
       "2022-08-26  170.570007  171.050003  163.559998  163.619995  163.619995   \n",
       "2022-08-29  161.149994  162.899994  159.820007  161.380005  161.380005   \n",
       "2022-08-30  162.130005  162.559998  157.720001  158.910004  158.910004   \n",
       "2022-08-31  160.309998  160.580002  157.139999  157.220001  157.220001   \n",
       "\n",
       "               Volume  \n",
       "Date                   \n",
       "2019-09-03   80092000  \n",
       "2019-09-04   76752400  \n",
       "2019-09-05   95654800  \n",
       "2019-09-06   77449200  \n",
       "2019-09-09  109237600  \n",
       "...               ...  \n",
       "2022-08-25   51218200  \n",
       "2022-08-26   78961000  \n",
       "2022-08-29   73314000  \n",
       "2022-08-30   77906200  \n",
       "2022-08-31   87991100  \n",
       "\n",
       "[756 rows x 6 columns]"
      ]
     },
     "execution_count": 2,
     "metadata": {},
     "output_type": "execute_result"
    }
   ],
   "source": [
    "stock_aapl"
   ]
  },
  {
   "cell_type": "code",
   "execution_count": 3,
   "id": "24756fe9",
   "metadata": {},
   "outputs": [],
   "source": [
    "aapl=stock_aapl[[\"Adj Close\"]]"
   ]
  },
  {
   "cell_type": "code",
   "execution_count": 4,
   "id": "04167563",
   "metadata": {
    "scrolled": true
   },
   "outputs": [
    {
     "data": {
      "text/html": [
       "<div>\n",
       "<style scoped>\n",
       "    .dataframe tbody tr th:only-of-type {\n",
       "        vertical-align: middle;\n",
       "    }\n",
       "\n",
       "    .dataframe tbody tr th {\n",
       "        vertical-align: top;\n",
       "    }\n",
       "\n",
       "    .dataframe thead th {\n",
       "        text-align: right;\n",
       "    }\n",
       "</style>\n",
       "<table border=\"1\" class=\"dataframe\">\n",
       "  <thead>\n",
       "    <tr style=\"text-align: right;\">\n",
       "      <th></th>\n",
       "      <th>Adj Close</th>\n",
       "    </tr>\n",
       "    <tr>\n",
       "      <th>Date</th>\n",
       "      <th></th>\n",
       "    </tr>\n",
       "  </thead>\n",
       "  <tbody>\n",
       "    <tr>\n",
       "      <th>2019-09-03</th>\n",
       "      <td>50.312431</td>\n",
       "    </tr>\n",
       "    <tr>\n",
       "      <th>2019-09-04</th>\n",
       "      <td>51.166061</td>\n",
       "    </tr>\n",
       "    <tr>\n",
       "      <th>2019-09-05</th>\n",
       "      <td>52.166439</td>\n",
       "    </tr>\n",
       "    <tr>\n",
       "      <th>2019-09-06</th>\n",
       "      <td>52.161549</td>\n",
       "    </tr>\n",
       "    <tr>\n",
       "      <th>2019-09-09</th>\n",
       "      <td>52.384117</td>\n",
       "    </tr>\n",
       "    <tr>\n",
       "      <th>...</th>\n",
       "      <td>...</td>\n",
       "    </tr>\n",
       "    <tr>\n",
       "      <th>2022-08-25</th>\n",
       "      <td>170.029999</td>\n",
       "    </tr>\n",
       "    <tr>\n",
       "      <th>2022-08-26</th>\n",
       "      <td>163.619995</td>\n",
       "    </tr>\n",
       "    <tr>\n",
       "      <th>2022-08-29</th>\n",
       "      <td>161.380005</td>\n",
       "    </tr>\n",
       "    <tr>\n",
       "      <th>2022-08-30</th>\n",
       "      <td>158.910004</td>\n",
       "    </tr>\n",
       "    <tr>\n",
       "      <th>2022-08-31</th>\n",
       "      <td>157.220001</td>\n",
       "    </tr>\n",
       "  </tbody>\n",
       "</table>\n",
       "<p>756 rows × 1 columns</p>\n",
       "</div>"
      ],
      "text/plain": [
       "             Adj Close\n",
       "Date                  \n",
       "2019-09-03   50.312431\n",
       "2019-09-04   51.166061\n",
       "2019-09-05   52.166439\n",
       "2019-09-06   52.161549\n",
       "2019-09-09   52.384117\n",
       "...                ...\n",
       "2022-08-25  170.029999\n",
       "2022-08-26  163.619995\n",
       "2022-08-29  161.380005\n",
       "2022-08-30  158.910004\n",
       "2022-08-31  157.220001\n",
       "\n",
       "[756 rows x 1 columns]"
      ]
     },
     "execution_count": 4,
     "metadata": {},
     "output_type": "execute_result"
    }
   ],
   "source": [
    "aapl"
   ]
  },
  {
   "cell_type": "markdown",
   "id": "e1b22fe8",
   "metadata": {},
   "source": [
    "### AAPL Returns\n"
   ]
  },
  {
   "cell_type": "code",
   "execution_count": 12,
   "id": "29239a0e",
   "metadata": {},
   "outputs": [],
   "source": [
    "returns_aapl= aapl[['Adj Close']].pct_change()"
   ]
  },
  {
   "cell_type": "code",
   "execution_count": 95,
   "id": "7c1167d9",
   "metadata": {},
   "outputs": [
    {
     "name": "stdout",
     "output_type": "stream",
     "text": [
      "AAPL returns\n"
     ]
    },
    {
     "data": {
      "text/html": [
       "<div>\n",
       "<style scoped>\n",
       "    .dataframe tbody tr th:only-of-type {\n",
       "        vertical-align: middle;\n",
       "    }\n",
       "\n",
       "    .dataframe tbody tr th {\n",
       "        vertical-align: top;\n",
       "    }\n",
       "\n",
       "    .dataframe thead th {\n",
       "        text-align: right;\n",
       "    }\n",
       "</style>\n",
       "<table border=\"1\" class=\"dataframe\">\n",
       "  <thead>\n",
       "    <tr style=\"text-align: right;\">\n",
       "      <th></th>\n",
       "      <th>Adj Close</th>\n",
       "    </tr>\n",
       "    <tr>\n",
       "      <th>Date</th>\n",
       "      <th></th>\n",
       "    </tr>\n",
       "  </thead>\n",
       "  <tbody>\n",
       "    <tr>\n",
       "      <th>2019-09-04</th>\n",
       "      <td>0.016967</td>\n",
       "    </tr>\n",
       "    <tr>\n",
       "      <th>2019-09-05</th>\n",
       "      <td>0.019552</td>\n",
       "    </tr>\n",
       "    <tr>\n",
       "      <th>2019-09-06</th>\n",
       "      <td>-0.000094</td>\n",
       "    </tr>\n",
       "    <tr>\n",
       "      <th>2019-09-09</th>\n",
       "      <td>0.004267</td>\n",
       "    </tr>\n",
       "    <tr>\n",
       "      <th>2019-09-10</th>\n",
       "      <td>0.011813</td>\n",
       "    </tr>\n",
       "    <tr>\n",
       "      <th>...</th>\n",
       "      <td>...</td>\n",
       "    </tr>\n",
       "    <tr>\n",
       "      <th>2022-08-25</th>\n",
       "      <td>0.014923</td>\n",
       "    </tr>\n",
       "    <tr>\n",
       "      <th>2022-08-26</th>\n",
       "      <td>-0.037699</td>\n",
       "    </tr>\n",
       "    <tr>\n",
       "      <th>2022-08-29</th>\n",
       "      <td>-0.013690</td>\n",
       "    </tr>\n",
       "    <tr>\n",
       "      <th>2022-08-30</th>\n",
       "      <td>-0.015305</td>\n",
       "    </tr>\n",
       "    <tr>\n",
       "      <th>2022-08-31</th>\n",
       "      <td>-0.010635</td>\n",
       "    </tr>\n",
       "  </tbody>\n",
       "</table>\n",
       "<p>755 rows × 1 columns</p>\n",
       "</div>"
      ],
      "text/plain": [
       "            Adj Close\n",
       "Date                 \n",
       "2019-09-04   0.016967\n",
       "2019-09-05   0.019552\n",
       "2019-09-06  -0.000094\n",
       "2019-09-09   0.004267\n",
       "2019-09-10   0.011813\n",
       "...               ...\n",
       "2022-08-25   0.014923\n",
       "2022-08-26  -0.037699\n",
       "2022-08-29  -0.013690\n",
       "2022-08-30  -0.015305\n",
       "2022-08-31  -0.010635\n",
       "\n",
       "[755 rows x 1 columns]"
      ]
     },
     "execution_count": 95,
     "metadata": {},
     "output_type": "execute_result"
    }
   ],
   "source": [
    "ret_aapl=returns_aapl.dropna()\n",
    "print(\"AAPL returns\")\n",
    "ret_aapl"
   ]
  },
  {
   "cell_type": "markdown",
   "id": "85e74aad",
   "metadata": {},
   "source": [
    "### SPY Returns"
   ]
  },
  {
   "cell_type": "code",
   "execution_count": 35,
   "id": "9030b086",
   "metadata": {},
   "outputs": [
    {
     "name": "stdout",
     "output_type": "stream",
     "text": [
      "[*********************100%***********************]  1 of 1 completed\n"
     ]
    }
   ],
   "source": [
    "start_date1 = datetime(2019, 9, 1)\n",
    "# end_date = datetime.now()\n",
    "end_date1 = datetime(2022, 9, 1)\n",
    "\n",
    "stock_symbol1 = ['SPY']\n",
    "\n",
    "stock_spy= pdr.get_data_yahoo(stock_symbol1, start_date1, end_date1)\n",
    "spy=stock_spy[[\"Adj Close\"]]\n",
    "returns_spy= spy[['Adj Close']].pct_change()\n",
    "spy=returns_spy.dropna()"
   ]
  },
  {
   "cell_type": "code",
   "execution_count": 36,
   "id": "839afe2e",
   "metadata": {},
   "outputs": [
    {
     "data": {
      "text/html": [
       "<div>\n",
       "<style scoped>\n",
       "    .dataframe tbody tr th:only-of-type {\n",
       "        vertical-align: middle;\n",
       "    }\n",
       "\n",
       "    .dataframe tbody tr th {\n",
       "        vertical-align: top;\n",
       "    }\n",
       "\n",
       "    .dataframe thead th {\n",
       "        text-align: right;\n",
       "    }\n",
       "</style>\n",
       "<table border=\"1\" class=\"dataframe\">\n",
       "  <thead>\n",
       "    <tr style=\"text-align: right;\">\n",
       "      <th></th>\n",
       "      <th>Adj Close</th>\n",
       "    </tr>\n",
       "    <tr>\n",
       "      <th>Date</th>\n",
       "      <th></th>\n",
       "    </tr>\n",
       "  </thead>\n",
       "  <tbody>\n",
       "    <tr>\n",
       "      <th>2019-09-04</th>\n",
       "      <td>0.011351</td>\n",
       "    </tr>\n",
       "    <tr>\n",
       "      <th>2019-09-05</th>\n",
       "      <td>0.012855</td>\n",
       "    </tr>\n",
       "    <tr>\n",
       "      <th>2019-09-06</th>\n",
       "      <td>0.000772</td>\n",
       "    </tr>\n",
       "    <tr>\n",
       "      <th>2019-09-09</th>\n",
       "      <td>0.000503</td>\n",
       "    </tr>\n",
       "    <tr>\n",
       "      <th>2019-09-10</th>\n",
       "      <td>-0.000235</td>\n",
       "    </tr>\n",
       "    <tr>\n",
       "      <th>...</th>\n",
       "      <td>...</td>\n",
       "    </tr>\n",
       "    <tr>\n",
       "      <th>2022-08-25</th>\n",
       "      <td>0.014118</td>\n",
       "    </tr>\n",
       "    <tr>\n",
       "      <th>2022-08-26</th>\n",
       "      <td>-0.033849</td>\n",
       "    </tr>\n",
       "    <tr>\n",
       "      <th>2022-08-29</th>\n",
       "      <td>-0.006612</td>\n",
       "    </tr>\n",
       "    <tr>\n",
       "      <th>2022-08-30</th>\n",
       "      <td>-0.010978</td>\n",
       "    </tr>\n",
       "    <tr>\n",
       "      <th>2022-08-31</th>\n",
       "      <td>-0.007609</td>\n",
       "    </tr>\n",
       "  </tbody>\n",
       "</table>\n",
       "<p>755 rows × 1 columns</p>\n",
       "</div>"
      ],
      "text/plain": [
       "            Adj Close\n",
       "Date                 \n",
       "2019-09-04   0.011351\n",
       "2019-09-05   0.012855\n",
       "2019-09-06   0.000772\n",
       "2019-09-09   0.000503\n",
       "2019-09-10  -0.000235\n",
       "...               ...\n",
       "2022-08-25   0.014118\n",
       "2022-08-26  -0.033849\n",
       "2022-08-29  -0.006612\n",
       "2022-08-30  -0.010978\n",
       "2022-08-31  -0.007609\n",
       "\n",
       "[755 rows x 1 columns]"
      ]
     },
     "execution_count": 36,
     "metadata": {},
     "output_type": "execute_result"
    }
   ],
   "source": [
    "spy"
   ]
  },
  {
   "cell_type": "markdown",
   "id": "7482d1a7",
   "metadata": {},
   "source": [
    "### Design Matrix"
   ]
  },
  {
   "cell_type": "code",
   "execution_count": 53,
   "id": "c684156e",
   "metadata": {},
   "outputs": [],
   "source": [
    "design_matrix    = pd.merge(ret_aapl,spy, on= 'Date')\n",
    "dict = {'Adj Close_x': 'Return_aapl',\n",
    "        'Adj Close_y': 'Return_spy'}\n",
    " \n",
    "# call rename () method\n",
    "design_matrix.rename(columns=dict,\n",
    "          inplace=True)"
   ]
  },
  {
   "cell_type": "code",
   "execution_count": 92,
   "id": "2fd51c21",
   "metadata": {},
   "outputs": [
    {
     "data": {
      "text/html": [
       "<div>\n",
       "<style scoped>\n",
       "    .dataframe tbody tr th:only-of-type {\n",
       "        vertical-align: middle;\n",
       "    }\n",
       "\n",
       "    .dataframe tbody tr th {\n",
       "        vertical-align: top;\n",
       "    }\n",
       "\n",
       "    .dataframe thead th {\n",
       "        text-align: right;\n",
       "    }\n",
       "</style>\n",
       "<table border=\"1\" class=\"dataframe\">\n",
       "  <thead>\n",
       "    <tr style=\"text-align: right;\">\n",
       "      <th></th>\n",
       "      <th>Return_aapl</th>\n",
       "      <th>Return_spy</th>\n",
       "    </tr>\n",
       "    <tr>\n",
       "      <th>Date</th>\n",
       "      <th></th>\n",
       "      <th></th>\n",
       "    </tr>\n",
       "  </thead>\n",
       "  <tbody>\n",
       "    <tr>\n",
       "      <th>2019-09-04</th>\n",
       "      <td>0.016967</td>\n",
       "      <td>0.011351</td>\n",
       "    </tr>\n",
       "    <tr>\n",
       "      <th>2019-09-05</th>\n",
       "      <td>0.019552</td>\n",
       "      <td>0.012855</td>\n",
       "    </tr>\n",
       "    <tr>\n",
       "      <th>2019-09-06</th>\n",
       "      <td>-0.000094</td>\n",
       "      <td>0.000772</td>\n",
       "    </tr>\n",
       "    <tr>\n",
       "      <th>2019-09-09</th>\n",
       "      <td>0.004267</td>\n",
       "      <td>0.000503</td>\n",
       "    </tr>\n",
       "    <tr>\n",
       "      <th>2019-09-10</th>\n",
       "      <td>0.011813</td>\n",
       "      <td>-0.000235</td>\n",
       "    </tr>\n",
       "    <tr>\n",
       "      <th>...</th>\n",
       "      <td>...</td>\n",
       "      <td>...</td>\n",
       "    </tr>\n",
       "    <tr>\n",
       "      <th>2022-08-25</th>\n",
       "      <td>0.014923</td>\n",
       "      <td>0.014118</td>\n",
       "    </tr>\n",
       "    <tr>\n",
       "      <th>2022-08-26</th>\n",
       "      <td>-0.037699</td>\n",
       "      <td>-0.033849</td>\n",
       "    </tr>\n",
       "    <tr>\n",
       "      <th>2022-08-29</th>\n",
       "      <td>-0.013690</td>\n",
       "      <td>-0.006612</td>\n",
       "    </tr>\n",
       "    <tr>\n",
       "      <th>2022-08-30</th>\n",
       "      <td>-0.015305</td>\n",
       "      <td>-0.010978</td>\n",
       "    </tr>\n",
       "    <tr>\n",
       "      <th>2022-08-31</th>\n",
       "      <td>-0.010635</td>\n",
       "      <td>-0.007609</td>\n",
       "    </tr>\n",
       "  </tbody>\n",
       "</table>\n",
       "<p>755 rows × 2 columns</p>\n",
       "</div>"
      ],
      "text/plain": [
       "            Return_aapl  Return_spy\n",
       "Date                               \n",
       "2019-09-04     0.016967    0.011351\n",
       "2019-09-05     0.019552    0.012855\n",
       "2019-09-06    -0.000094    0.000772\n",
       "2019-09-09     0.004267    0.000503\n",
       "2019-09-10     0.011813   -0.000235\n",
       "...                 ...         ...\n",
       "2022-08-25     0.014923    0.014118\n",
       "2022-08-26    -0.037699   -0.033849\n",
       "2022-08-29    -0.013690   -0.006612\n",
       "2022-08-30    -0.015305   -0.010978\n",
       "2022-08-31    -0.010635   -0.007609\n",
       "\n",
       "[755 rows x 2 columns]"
      ]
     },
     "execution_count": 92,
     "metadata": {},
     "output_type": "execute_result"
    }
   ],
   "source": [
    "design_matrix\n",
    "#design_matrix.to_csv(\"C:\\\\Users\\\\KD129201\\\\ass4.csv\")"
   ]
  },
  {
   "cell_type": "markdown",
   "id": "889b72c5",
   "metadata": {},
   "source": [
    "### Conduct quantile regression and estimate 20% and 80% quantile"
   ]
  },
  {
   "cell_type": "code",
   "execution_count": 61,
   "id": "2b953b04",
   "metadata": {},
   "outputs": [],
   "source": [
    "model_20 = smf.quantreg('Return_aapl ~ Return_spy', design_matrix).fit(q=0.2)"
   ]
  },
  {
   "cell_type": "code",
   "execution_count": 62,
   "id": "7673e70b",
   "metadata": {},
   "outputs": [
    {
     "data": {
      "text/html": [
       "<table class=\"simpletable\">\n",
       "<caption>QuantReg Regression Results</caption>\n",
       "<tr>\n",
       "  <th>Dep. Variable:</th>    <td>Return_aapl</td>   <th>  Pseudo R-squared:  </th> <td>  0.4515</td>\n",
       "</tr>\n",
       "<tr>\n",
       "  <th>Model:</th>             <td>QuantReg</td>     <th>  Bandwidth:         </th> <td>0.004604</td>\n",
       "</tr>\n",
       "<tr>\n",
       "  <th>Method:</th>          <td>Least Squares</td>  <th>  Sparsity:          </th> <td> 0.03726</td>\n",
       "</tr>\n",
       "<tr>\n",
       "  <th>Date:</th>          <td>Thu, 29 Sep 2022</td> <th>  No. Observations:  </th>  <td>   755</td> \n",
       "</tr>\n",
       "<tr>\n",
       "  <th>Time:</th>              <td>11:12:10</td>     <th>  Df Residuals:      </th>  <td>   753</td> \n",
       "</tr>\n",
       "<tr>\n",
       "  <th> </th>                      <td> </td>        <th>  Df Model:          </th>  <td>     1</td> \n",
       "</tr>\n",
       "</table>\n",
       "<table class=\"simpletable\">\n",
       "<tr>\n",
       "       <td></td>         <th>coef</th>     <th>std err</th>      <th>t</th>      <th>P>|t|</th>  <th>[0.025</th>    <th>0.975]</th>  \n",
       "</tr>\n",
       "<tr>\n",
       "  <th>Intercept</th>  <td>   -0.0081</td> <td>    0.001</td> <td>  -14.904</td> <td> 0.000</td> <td>   -0.009</td> <td>   -0.007</td>\n",
       "</tr>\n",
       "<tr>\n",
       "  <th>Return_spy</th> <td>    1.1968</td> <td>    0.039</td> <td>   30.815</td> <td> 0.000</td> <td>    1.121</td> <td>    1.273</td>\n",
       "</tr>\n",
       "</table>"
      ],
      "text/plain": [
       "<class 'statsmodels.iolib.summary.Summary'>\n",
       "\"\"\"\n",
       "                         QuantReg Regression Results                          \n",
       "==============================================================================\n",
       "Dep. Variable:            Return_aapl   Pseudo R-squared:               0.4515\n",
       "Model:                       QuantReg   Bandwidth:                    0.004604\n",
       "Method:                 Least Squares   Sparsity:                      0.03726\n",
       "Date:                Thu, 29 Sep 2022   No. Observations:                  755\n",
       "Time:                        11:12:10   Df Residuals:                      753\n",
       "                                        Df Model:                            1\n",
       "==============================================================================\n",
       "                 coef    std err          t      P>|t|      [0.025      0.975]\n",
       "------------------------------------------------------------------------------\n",
       "Intercept     -0.0081      0.001    -14.904      0.000      -0.009      -0.007\n",
       "Return_spy     1.1968      0.039     30.815      0.000       1.121       1.273\n",
       "==============================================================================\n",
       "\"\"\""
      ]
     },
     "execution_count": 62,
     "metadata": {},
     "output_type": "execute_result"
    }
   ],
   "source": [
    "model_20.summary()"
   ]
  },
  {
   "cell_type": "code",
   "execution_count": 63,
   "id": "40d3233c",
   "metadata": {},
   "outputs": [],
   "source": [
    "model_80 = smf.quantreg('Return_aapl ~ Return_spy', design_matrix).fit(q=0.8)"
   ]
  },
  {
   "cell_type": "code",
   "execution_count": 64,
   "id": "93f28d0a",
   "metadata": {},
   "outputs": [
    {
     "data": {
      "text/html": [
       "<table class=\"simpletable\">\n",
       "<caption>QuantReg Regression Results</caption>\n",
       "<tr>\n",
       "  <th>Dep. Variable:</th>    <td>Return_aapl</td>   <th>  Pseudo R-squared:  </th> <td>  0.3865</td>\n",
       "</tr>\n",
       "<tr>\n",
       "  <th>Model:</th>             <td>QuantReg</td>     <th>  Bandwidth:         </th> <td>0.004644</td>\n",
       "</tr>\n",
       "<tr>\n",
       "  <th>Method:</th>          <td>Least Squares</td>  <th>  Sparsity:          </th> <td> 0.04768</td>\n",
       "</tr>\n",
       "<tr>\n",
       "  <th>Date:</th>          <td>Thu, 29 Sep 2022</td> <th>  No. Observations:  </th>  <td>   755</td> \n",
       "</tr>\n",
       "<tr>\n",
       "  <th>Time:</th>              <td>11:12:33</td>     <th>  Df Residuals:      </th>  <td>   753</td> \n",
       "</tr>\n",
       "<tr>\n",
       "  <th> </th>                      <td> </td>        <th>  Df Model:          </th>  <td>     1</td> \n",
       "</tr>\n",
       "</table>\n",
       "<table class=\"simpletable\">\n",
       "<tr>\n",
       "       <td></td>         <th>coef</th>     <th>std err</th>      <th>t</th>      <th>P>|t|</th>  <th>[0.025</th>    <th>0.975]</th>  \n",
       "</tr>\n",
       "<tr>\n",
       "  <th>Intercept</th>  <td>    0.0094</td> <td>    0.001</td> <td>   13.496</td> <td> 0.000</td> <td>    0.008</td> <td>    0.011</td>\n",
       "</tr>\n",
       "<tr>\n",
       "  <th>Return_spy</th> <td>    1.2103</td> <td>    0.056</td> <td>   21.709</td> <td> 0.000</td> <td>    1.101</td> <td>    1.320</td>\n",
       "</tr>\n",
       "</table>"
      ],
      "text/plain": [
       "<class 'statsmodels.iolib.summary.Summary'>\n",
       "\"\"\"\n",
       "                         QuantReg Regression Results                          \n",
       "==============================================================================\n",
       "Dep. Variable:            Return_aapl   Pseudo R-squared:               0.3865\n",
       "Model:                       QuantReg   Bandwidth:                    0.004644\n",
       "Method:                 Least Squares   Sparsity:                      0.04768\n",
       "Date:                Thu, 29 Sep 2022   No. Observations:                  755\n",
       "Time:                        11:12:33   Df Residuals:                      753\n",
       "                                        Df Model:                            1\n",
       "==============================================================================\n",
       "                 coef    std err          t      P>|t|      [0.025      0.975]\n",
       "------------------------------------------------------------------------------\n",
       "Intercept      0.0094      0.001     13.496      0.000       0.008       0.011\n",
       "Return_spy     1.2103      0.056     21.709      0.000       1.101       1.320\n",
       "==============================================================================\n",
       "\"\"\""
      ]
     },
     "execution_count": 64,
     "metadata": {},
     "output_type": "execute_result"
    }
   ],
   "source": [
    "model_80.summary()"
   ]
  },
  {
   "cell_type": "markdown",
   "id": "5960a41c",
   "metadata": {},
   "source": [
    "### SPY vs AAPL returns Plot "
   ]
  },
  {
   "cell_type": "code",
   "execution_count": 75,
   "id": "8d51f372",
   "metadata": {},
   "outputs": [
    {
     "data": {
      "image/png": "[encoded data removed]",
      "text/plain": [
       "<Figure size 540x252 with 1 Axes>"
      ]
     },
     "metadata": {
      "needs_background": "light"
     },
     "output_type": "display_data"
    }
   ],
   "source": [
    "plt.rcParams[\"figure.figsize\"] = [7.50, 3.50]\n",
    "plt.rcParams[\"figure.autolayout\"] = True\n",
    "fig = plt.figure()\n",
    "plt.plot(design_matrix)\n",
    "bottom,top = plt.ylim()\n",
    "\n",
    "#print(\"Bottom value:\",left,\"\\n\",\"Top Value:\",right)\n",
    "\n",
    "# Add Title\n",
    "\n",
    "\n",
    "plt.title(\"Returns of the two assets SPY and AAPL\") \n",
    "\n",
    "# Add Axes Labels\n",
    "\n",
    "plt.xlabel(\"Date\") \n",
    "plt.ylabel(\"Returns\") \n",
    "plt.legend(design_matrix)\n",
    "# Display\n",
    "\n",
    "plt.show()"
   ]
  },
  {
   "cell_type": "markdown",
   "id": "d6ca262a",
   "metadata": {},
   "source": [
    "### Quantile Plot"
   ]
  },
  {
   "cell_type": "code",
   "execution_count": 76,
   "id": "fe817791",
   "metadata": {},
   "outputs": [
    {
     "name": "stdout",
     "output_type": "stream",
     "text": [
      "Intercept     0.009397\n",
      "Return_spy    1.210257\n",
      "dtype: float64\n"
     ]
    }
   ],
   "source": [
    "print(model_80.params)"
   ]
  },
  {
   "cell_type": "code",
   "execution_count": 81,
   "id": "17add532",
   "metadata": {},
   "outputs": [
    {
     "name": "stdout",
     "output_type": "stream",
     "text": [
      "Intercept    -0.008107\n",
      "Return_spy    1.196783\n",
      "dtype: float64\n"
     ]
    }
   ],
   "source": [
    "print(model_20.params)"
   ]
  },
  {
   "cell_type": "code",
   "execution_count": 94,
   "id": "d79f1a34",
   "metadata": {},
   "outputs": [
    {
     "data": {
      "image/png": "[encoded data removed]",
      "text/plain": [
       "<Figure size 540x252 with 1 Axes>"
      ]
     },
     "metadata": {
      "needs_background": "light"
     },
     "output_type": "display_data"
    }
   ],
   "source": [
    "x= design_matrix['Return_spy']\n",
    "y= design_matrix['Return_aapl']\n",
    "# extract intercept b and slope m\n",
    "b, m = model_80.params\n",
    "b1,m1 = model_20.params\n",
    "plt.plot(x, y, 'yo', x, m*x+b, '--k')\n",
    "plt.plot(x, y, 'yo', x, m1*x+b1, '--k')\n",
    "plt.xlabel(\"SPY Returns\") \n",
    "plt.ylabel(\"Quantile plots 20% and 80%\") \n",
    "plt.title(\"20% and 80% Quantile plots of AAPL ret vs SPY ret\") \n",
    "plt.show()\n",
    "# plot y = m*x + b\n",
    "#plt.axline(xy1=(0, b), slope=m, label=f'$y = {m:.1f}x {b:+.1f}$')"
   ]
  },
  {
   "cell_type": "code",
   "execution_count": null,
   "id": "d829623c",
   "metadata": {},
   "outputs": [],
   "source": []
  }
 ],
 "metadata": {
  "kernelspec": {
   "display_name": "Python 3 (ipykernel)",
   "language": "python",
   "name": "python3"
  },
  "language_info": {
   "codemirror_mode": {
    "name": "ipython",
    "version": 3
   },
   "file_extension": ".py",
   "mimetype": "text/x-python",
   "name": "python",
   "nbconvert_exporter": "python",
   "pygments_lexer": "ipython3",
   "version": "3.9.12"
  }
 },
 "nbformat": 4,
 "nbformat_minor": 5
}
